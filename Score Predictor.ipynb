{
 "cells": [
  {
   "cell_type": "markdown",
   "id": "4ac9a154",
   "metadata": {},
   "source": [
    "# "
   ]
  },
  {
   "cell_type": "code",
   "execution_count": 1,
   "id": "99746df4",
   "metadata": {},
   "outputs": [],
   "source": [
    "import pandas as pd\n",
    "import numpy as np\n",
    "from sklearn.preprocessing import StandardScaler\n",
    "from sklearn.linear_model import LinearRegression, LogisticRegression\n",
    "from sklearn.model_selection import train_test_split\n",
    "from sklearn import metrics\n",
    "from sklearn.metrics import accuracy_score, classification_report\n",
    "import warnings\n",
    "\n",
    "\n",
    "warnings.filterwarnings(\"ignore\")"
   ]
  },
  {
   "cell_type": "markdown",
   "id": "d86304d8",
   "metadata": {},
   "source": [
    "### Cleaning and Preprocessing\n"
   ]
  },
  {
   "cell_type": "code",
   "execution_count": 2,
   "id": "07aba247",
   "metadata": {},
   "outputs": [],
   "source": [
    "df_20_21 = pd.read_csv(\"E0.csv\")\n",
    "df_19_20 = pd.read_csv(\"season_19_20.csv\")\n",
    "df_18_19 = pd.read_csv(\"season_18_19csv.csv\")\n",
    "df_18_17 = pd.read_csv(\"season-1718_csv.csv\")"
   ]
  },
  {
   "cell_type": "code",
   "execution_count": 3,
   "id": "ab7a585f",
   "metadata": {},
   "outputs": [],
   "source": [
    "df = pd.concat([df_18_17, df_18_19, df_19_20, df_20_21], join=\"inner\")"
   ]
  },
  {
   "cell_type": "code",
   "execution_count": 4,
   "id": "8662347d",
   "metadata": {},
   "outputs": [
    {
     "name": "stdout",
     "output_type": "stream",
     "text": [
      "<class 'pandas.core.frame.DataFrame'>\n",
      "Int64Index: 1520 entries, 0 to 379\n",
      "Data columns (total 44 columns):\n",
      " #   Column    Non-Null Count  Dtype  \n",
      "---  ------    --------------  -----  \n",
      " 0   Div       1520 non-null   object \n",
      " 1   Date      1520 non-null   object \n",
      " 2   HomeTeam  1520 non-null   object \n",
      " 3   AwayTeam  1520 non-null   object \n",
      " 4   FTHG      1520 non-null   int64  \n",
      " 5   FTAG      1520 non-null   int64  \n",
      " 6   FTR       1520 non-null   object \n",
      " 7   HTHG      1520 non-null   int64  \n",
      " 8   HTAG      1520 non-null   int64  \n",
      " 9   HTR       1520 non-null   object \n",
      " 10  Referee   1520 non-null   object \n",
      " 11  HS        1520 non-null   int64  \n",
      " 12  AS        1520 non-null   int64  \n",
      " 13  HST       1520 non-null   int64  \n",
      " 14  AST       1520 non-null   int64  \n",
      " 15  HF        1520 non-null   int64  \n",
      " 16  AF        1520 non-null   int64  \n",
      " 17  HC        1520 non-null   int64  \n",
      " 18  AC        1520 non-null   int64  \n",
      " 19  HY        1520 non-null   int64  \n",
      " 20  AY        1520 non-null   int64  \n",
      " 21  HR        1520 non-null   int64  \n",
      " 22  AR        1520 non-null   int64  \n",
      " 23  B365H     1520 non-null   float64\n",
      " 24  B365D     1520 non-null   float64\n",
      " 25  B365A     1520 non-null   float64\n",
      " 26  BWH       1520 non-null   float64\n",
      " 27  BWD       1520 non-null   float64\n",
      " 28  BWA       1520 non-null   float64\n",
      " 29  IWH       1520 non-null   float64\n",
      " 30  IWD       1520 non-null   float64\n",
      " 31  IWA       1520 non-null   float64\n",
      " 32  PSH       1520 non-null   float64\n",
      " 33  PSD       1520 non-null   float64\n",
      " 34  PSA       1520 non-null   float64\n",
      " 35  WHH       1520 non-null   float64\n",
      " 36  WHD       1520 non-null   float64\n",
      " 37  WHA       1520 non-null   float64\n",
      " 38  VCH       1520 non-null   float64\n",
      " 39  VCD       1520 non-null   float64\n",
      " 40  VCA       1520 non-null   float64\n",
      " 41  PSCH      1520 non-null   float64\n",
      " 42  PSCD      1520 non-null   float64\n",
      " 43  PSCA      1520 non-null   float64\n",
      "dtypes: float64(21), int64(16), object(7)\n",
      "memory usage: 534.4+ KB\n"
     ]
    }
   ],
   "source": [
    "df.info()"
   ]
  },
  {
   "cell_type": "code",
   "execution_count": 5,
   "id": "7b2d5bd8",
   "metadata": {},
   "outputs": [],
   "source": [
    "df = df[[\"HomeTeam\", \"AwayTeam\", \"FTHG\", \"FTAG\", \"HTHG\", \"HTAG\",\n",
    "        \"HS\", \"AS\", \"HST\", \"AST\", \"HC\", \"AC\", \"HF\", \"AF\", \"HR\", \"AR\"]]\n",
    "        "
   ]
  },
  {
   "cell_type": "code",
   "execution_count": 6,
   "id": "16d88f0e",
   "metadata": {},
   "outputs": [],
   "source": [
    "X = df.drop([\"FTHG\", \"FTAG\"], axis = 1)\n",
    "y = df[[\"FTHG\", \"FTAG\"]]"
   ]
  },
  {
   "cell_type": "code",
   "execution_count": 7,
   "id": "85ab3d6f",
   "metadata": {},
   "outputs": [],
   "source": [
    "X_dummy = pd.get_dummies(X)"
   ]
  },
  {
   "cell_type": "code",
   "execution_count": 8,
   "id": "c8f3b059",
   "metadata": {},
   "outputs": [
    {
     "name": "stdout",
     "output_type": "stream",
     "text": [
      "<class 'pandas.core.frame.DataFrame'>\n",
      "Int64Index: 1520 entries, 0 to 379\n",
      "Data columns (total 14 columns):\n",
      " #   Column    Non-Null Count  Dtype \n",
      "---  ------    --------------  ----- \n",
      " 0   HomeTeam  1520 non-null   object\n",
      " 1   AwayTeam  1520 non-null   object\n",
      " 2   HTHG      1520 non-null   int64 \n",
      " 3   HTAG      1520 non-null   int64 \n",
      " 4   HS        1520 non-null   int64 \n",
      " 5   AS        1520 non-null   int64 \n",
      " 6   HST       1520 non-null   int64 \n",
      " 7   AST       1520 non-null   int64 \n",
      " 8   HC        1520 non-null   int64 \n",
      " 9   AC        1520 non-null   int64 \n",
      " 10  HF        1520 non-null   int64 \n",
      " 11  AF        1520 non-null   int64 \n",
      " 12  HR        1520 non-null   int64 \n",
      " 13  AR        1520 non-null   int64 \n",
      "dtypes: int64(12), object(2)\n",
      "memory usage: 178.1+ KB\n"
     ]
    }
   ],
   "source": [
    "X.info()"
   ]
  },
  {
   "cell_type": "code",
   "execution_count": 9,
   "id": "fb101330",
   "metadata": {},
   "outputs": [],
   "source": [
    "X_train, X_test, y_train, y_test = train_test_split(X_dummy, y, train_size=0.80, random_state=1)"
   ]
  },
  {
   "cell_type": "code",
   "execution_count": 10,
   "id": "1325c667",
   "metadata": {},
   "outputs": [],
   "source": [
    "scaler = StandardScaler()"
   ]
  },
  {
   "cell_type": "code",
   "execution_count": 11,
   "id": "4042ce1d",
   "metadata": {},
   "outputs": [
    {
     "data": {
      "text/plain": [
       "array([[ 1.61179602,  0.56866175,  0.45298074, ..., -0.15630528,\n",
       "        -0.23375215, -0.19375929],\n",
       "       [-0.7930432 ,  0.56866175, -2.21229946, ..., -0.15630528,\n",
       "        -0.23375215, -0.19375929],\n",
       "       [-0.7930432 ,  1.84683679, -0.79081669, ..., -0.15630528,\n",
       "        -0.23375215,  5.16104288],\n",
       "       ...,\n",
       "       [ 0.40937641,  1.84683679, -0.25776065, ..., -0.15630528,\n",
       "        -0.23375215, -0.19375929],\n",
       "       [ 0.40937641, -0.70951328,  1.34140747, ..., -0.15630528,\n",
       "        -0.23375215, -0.19375929],\n",
       "       [-0.7930432 , -0.70951328,  0.27529539, ..., -0.15630528,\n",
       "         4.27803545, -0.19375929]])"
      ]
     },
     "execution_count": 11,
     "metadata": {},
     "output_type": "execute_result"
    }
   ],
   "source": [
    "scaler.fit_transform(X_train)"
   ]
  },
  {
   "cell_type": "markdown",
   "id": "45cc19c3",
   "metadata": {},
   "source": [
    "### Modelling and Results using Linear Regression"
   ]
  },
  {
   "cell_type": "code",
   "execution_count": 12,
   "id": "d8a1aa52",
   "metadata": {},
   "outputs": [],
   "source": [
    "lin_model_dummy = LinearRegression()"
   ]
  },
  {
   "cell_type": "code",
   "execution_count": 13,
   "id": "59e54767",
   "metadata": {},
   "outputs": [
    {
     "data": {
      "text/plain": [
       "LinearRegression()"
      ]
     },
     "execution_count": 13,
     "metadata": {},
     "output_type": "execute_result"
    }
   ],
   "source": [
    "lin_model_dummy.fit(X_train, y_train)"
   ]
  },
  {
   "cell_type": "code",
   "execution_count": 14,
   "id": "57d062c1",
   "metadata": {},
   "outputs": [],
   "source": [
    "y_pred = lin_model_dummy.predict(X_test)"
   ]
  },
  {
   "cell_type": "code",
   "execution_count": 15,
   "id": "57771369",
   "metadata": {},
   "outputs": [
    {
     "name": "stdout",
     "output_type": "stream",
     "text": [
      "0.62385088911182\n",
      "0.630375831732253\n",
      "0.7939621097585533\n"
     ]
    }
   ],
   "source": [
    "print(metrics.mean_absolute_error(y_test, y_pred))\n",
    "print(metrics.mean_squared_error(y_test, y_pred))\n",
    "print(np.sqrt(metrics.mean_squared_error(y_test, y_pred)))"
   ]
  },
  {
   "cell_type": "markdown",
   "id": "3e22355d",
   "metadata": {},
   "source": [
    "### Modelling without team names"
   ]
  },
  {
   "cell_type": "code",
   "execution_count": 16,
   "id": "77673ae0",
   "metadata": {},
   "outputs": [],
   "source": [
    "X = X.drop([\"HomeTeam\", \"AwayTeam\"], axis=1)"
   ]
  },
  {
   "cell_type": "code",
   "execution_count": 17,
   "id": "7eed0f5f",
   "metadata": {},
   "outputs": [],
   "source": [
    "X_train, X_test, y_train, y_test = train_test_split(X, y, train_size=0.80, random_state=1)"
   ]
  },
  {
   "cell_type": "code",
   "execution_count": 18,
   "id": "30e62bcf",
   "metadata": {},
   "outputs": [],
   "source": [
    "lin_model = LinearRegression()"
   ]
  },
  {
   "cell_type": "code",
   "execution_count": 19,
   "id": "56c48b50",
   "metadata": {},
   "outputs": [
    {
     "data": {
      "text/plain": [
       "LinearRegression()"
      ]
     },
     "execution_count": 19,
     "metadata": {},
     "output_type": "execute_result"
    }
   ],
   "source": [
    "lin_model.fit(X_train, y_train)\n"
   ]
  },
  {
   "cell_type": "code",
   "execution_count": 20,
   "id": "0a47bdd7",
   "metadata": {},
   "outputs": [],
   "source": [
    "lin_pred = lin_model.predict(X_test)"
   ]
  },
  {
   "cell_type": "code",
   "execution_count": 21,
   "id": "e1035e6c",
   "metadata": {},
   "outputs": [
    {
     "name": "stdout",
     "output_type": "stream",
     "text": [
      "0.626516106454666\n",
      "0.6381344195173791\n",
      "0.7988331612529485\n"
     ]
    }
   ],
   "source": [
    "print(metrics.mean_absolute_error(y_test, lin_pred))\n",
    "print(metrics.mean_squared_error(y_test, lin_pred))\n",
    "print(np.sqrt(metrics.mean_squared_error(y_test, lin_pred)))"
   ]
  },
  {
   "cell_type": "code",
   "execution_count": 22,
   "id": "569da3bb",
   "metadata": {},
   "outputs": [],
   "source": [
    "scaler = StandardScaler()"
   ]
  },
  {
   "cell_type": "code",
   "execution_count": 23,
   "id": "d2c7d4f8",
   "metadata": {},
   "outputs": [
    {
     "data": {
      "text/plain": [
       "array([[ 1.61179602,  0.56866175,  0.45298074, ..., -0.15261246,\n",
       "        -0.22226832, -0.25166528],\n",
       "       [-0.7930432 ,  0.56866175, -2.21229946, ..., -0.72012546,\n",
       "         4.20852306, -0.25166528],\n",
       "       [-0.7930432 ,  1.84683679, -0.79081669, ..., -1.00388196,\n",
       "        -0.22226832, -0.25166528],\n",
       "       ...,\n",
       "       [ 0.40937641,  1.84683679, -0.25776065, ...,  1.26617004,\n",
       "        -0.22226832, -0.25166528],\n",
       "       [ 0.40937641, -0.70951328,  1.34140747, ..., -0.15261246,\n",
       "        -0.22226832, -0.25166528],\n",
       "       [-0.7930432 , -0.70951328,  0.27529539, ..., -1.00388196,\n",
       "        -0.22226832, -0.25166528]])"
      ]
     },
     "execution_count": 23,
     "metadata": {},
     "output_type": "execute_result"
    }
   ],
   "source": [
    "scaler.fit_transform(X_train)"
   ]
  },
  {
   "cell_type": "code",
   "execution_count": 24,
   "id": "b1bb7cc2",
   "metadata": {},
   "outputs": [],
   "source": [
    "lin_model_scale = LinearRegression()"
   ]
  },
  {
   "cell_type": "code",
   "execution_count": 25,
   "id": "1f93d5a8",
   "metadata": {},
   "outputs": [
    {
     "data": {
      "text/plain": [
       "LinearRegression()"
      ]
     },
     "execution_count": 25,
     "metadata": {},
     "output_type": "execute_result"
    }
   ],
   "source": [
    "lin_model_scale.fit(X_train, y_train)"
   ]
  },
  {
   "cell_type": "code",
   "execution_count": 26,
   "id": "ac71f39b",
   "metadata": {},
   "outputs": [],
   "source": [
    "lin_scale_predict = lin_model_scale.predict(X_test)"
   ]
  },
  {
   "cell_type": "code",
   "execution_count": 27,
   "id": "aa97cb72",
   "metadata": {},
   "outputs": [
    {
     "name": "stdout",
     "output_type": "stream",
     "text": [
      "0.626516106454666\n",
      "0.6381344195173791\n",
      "0.7988331612529485\n"
     ]
    }
   ],
   "source": [
    "print(metrics.mean_absolute_error(y_test, lin_scale_predict))\n",
    "print(metrics.mean_squared_error(y_test, lin_scale_predict))\n",
    "print(np.sqrt(metrics.mean_squared_error(y_test, lin_scale_predict)))"
   ]
  },
  {
   "cell_type": "code",
   "execution_count": 28,
   "id": "f3de679a",
   "metadata": {},
   "outputs": [
    {
     "data": {
      "text/plain": [
       "array([[1.41035491, 1.83452738],\n",
       "       [1.46456581, 0.57434174],\n",
       "       [2.33674731, 1.96012422]])"
      ]
     },
     "execution_count": 28,
     "metadata": {},
     "output_type": "execute_result"
    }
   ],
   "source": [
    "lin_scale_predict[0:3]"
   ]
  },
  {
   "cell_type": "code",
   "execution_count": 29,
   "id": "62354e25",
   "metadata": {},
   "outputs": [
    {
     "data": {
      "text/html": [
       "<div>\n",
       "<style scoped>\n",
       "    .dataframe tbody tr th:only-of-type {\n",
       "        vertical-align: middle;\n",
       "    }\n",
       "\n",
       "    .dataframe tbody tr th {\n",
       "        vertical-align: top;\n",
       "    }\n",
       "\n",
       "    .dataframe thead th {\n",
       "        text-align: right;\n",
       "    }\n",
       "</style>\n",
       "<table border=\"1\" class=\"dataframe\">\n",
       "  <thead>\n",
       "    <tr style=\"text-align: right;\">\n",
       "      <th></th>\n",
       "      <th>FTHG</th>\n",
       "      <th>FTAG</th>\n",
       "    </tr>\n",
       "  </thead>\n",
       "  <tbody>\n",
       "    <tr>\n",
       "      <th>332</th>\n",
       "      <td>1</td>\n",
       "      <td>2</td>\n",
       "    </tr>\n",
       "    <tr>\n",
       "      <th>368</th>\n",
       "      <td>1</td>\n",
       "      <td>0</td>\n",
       "    </tr>\n",
       "    <tr>\n",
       "      <th>12</th>\n",
       "      <td>2</td>\n",
       "      <td>5</td>\n",
       "    </tr>\n",
       "  </tbody>\n",
       "</table>\n",
       "</div>"
      ],
      "text/plain": [
       "     FTHG  FTAG\n",
       "332     1     2\n",
       "368     1     0\n",
       "12      2     5"
      ]
     },
     "execution_count": 29,
     "metadata": {},
     "output_type": "execute_result"
    }
   ],
   "source": [
    "y_test[0:3]"
   ]
  },
  {
   "cell_type": "markdown",
   "id": "18b592d6",
   "metadata": {},
   "source": [
    "### Modelling with Logistic Regression\n"
   ]
  },
  {
   "cell_type": "code",
   "execution_count": 30,
   "id": "8b3962ac",
   "metadata": {},
   "outputs": [],
   "source": [
    "log_model_hg = LogisticRegression()\n",
    "log_model_ag = LogisticRegression()"
   ]
  },
  {
   "cell_type": "code",
   "execution_count": 31,
   "id": "4973b19b",
   "metadata": {},
   "outputs": [],
   "source": [
    "y_train_hg = y_train[\"FTHG\"]\n",
    "y_test_hg = y_test[\"FTHG\"]\n",
    "y_train_ag = y_train[\"FTAG\"]\n",
    "y_test_ag = y_test[\"FTAG\"]"
   ]
  },
  {
   "cell_type": "code",
   "execution_count": 32,
   "id": "9d054e01",
   "metadata": {},
   "outputs": [
    {
     "data": {
      "text/plain": [
       "(1216, 12)"
      ]
     },
     "execution_count": 32,
     "metadata": {},
     "output_type": "execute_result"
    }
   ],
   "source": [
    "X_train.shape"
   ]
  },
  {
   "cell_type": "code",
   "execution_count": 33,
   "id": "c5f2456b",
   "metadata": {},
   "outputs": [
    {
     "data": {
      "text/plain": [
       "(1216,)"
      ]
     },
     "execution_count": 33,
     "metadata": {},
     "output_type": "execute_result"
    }
   ],
   "source": [
    "y_train_ag.shape"
   ]
  },
  {
   "cell_type": "code",
   "execution_count": 34,
   "id": "04c1ef2d",
   "metadata": {},
   "outputs": [
    {
     "data": {
      "text/plain": [
       "LogisticRegression()"
      ]
     },
     "execution_count": 34,
     "metadata": {},
     "output_type": "execute_result"
    }
   ],
   "source": [
    "log_model_hg.fit(X_train, y_train_hg)\n",
    "log_model_ag.fit(X_train, y_train_ag)"
   ]
  },
  {
   "cell_type": "code",
   "execution_count": 35,
   "id": "4a1d417d",
   "metadata": {},
   "outputs": [],
   "source": [
    "y_pred_hg = log_model_hg.predict(X_test)\n",
    "y_pred_ag = log_model_ag.predict(X_test)"
   ]
  },
  {
   "cell_type": "code",
   "execution_count": 36,
   "id": "66867934",
   "metadata": {},
   "outputs": [
    {
     "name": "stdout",
     "output_type": "stream",
     "text": [
      "0.4506578947368421\n",
      "0.5197368421052632\n"
     ]
    }
   ],
   "source": [
    "print(accuracy_score(y_test_hg, y_pred_hg))\n",
    "print(accuracy_score(y_test_ag, y_pred_ag))"
   ]
  },
  {
   "cell_type": "code",
   "execution_count": 37,
   "id": "790c6dbf",
   "metadata": {},
   "outputs": [
    {
     "name": "stdout",
     "output_type": "stream",
     "text": [
      "              precision    recall  f1-score   support\n",
      "\n",
      "           0       0.56      0.63      0.59        73\n",
      "           1       0.42      0.52      0.46        93\n",
      "           2       0.43      0.38      0.40        76\n",
      "           3       0.35      0.27      0.31        33\n",
      "           4       0.25      0.06      0.10        16\n",
      "           5       0.40      0.33      0.36        12\n",
      "           6       0.00      0.00      0.00         1\n",
      "\n",
      "    accuracy                           0.45       304\n",
      "   macro avg       0.34      0.31      0.32       304\n",
      "weighted avg       0.44      0.45      0.44       304\n",
      "\n",
      "              precision    recall  f1-score   support\n",
      "\n",
      "           0       0.63      0.84      0.72        93\n",
      "           1       0.49      0.52      0.50        98\n",
      "           2       0.48      0.29      0.36        75\n",
      "           3       0.23      0.23      0.23        26\n",
      "           4       0.25      0.20      0.22         5\n",
      "           5       0.00      0.00      0.00         6\n",
      "           7       0.00      0.00      0.00         1\n",
      "\n",
      "    accuracy                           0.52       304\n",
      "   macro avg       0.30      0.30      0.29       304\n",
      "weighted avg       0.49      0.52      0.50       304\n",
      "\n"
     ]
    }
   ],
   "source": [
    "print(classification_report(y_test_hg, y_pred_hg))\n",
    "print(classification_report(y_test_ag, y_pred_ag))"
   ]
  },
  {
   "cell_type": "markdown",
   "id": "aead692f",
   "metadata": {},
   "source": [
    "### Logistic Regression with dummy columns"
   ]
  },
  {
   "cell_type": "code",
   "execution_count": 38,
   "id": "3d49faf5",
   "metadata": {},
   "outputs": [
    {
     "data": {
      "text/plain": [
       "(1520, 66)"
      ]
     },
     "execution_count": 38,
     "metadata": {},
     "output_type": "execute_result"
    }
   ],
   "source": [
    "X_dummy.shape"
   ]
  },
  {
   "cell_type": "code",
   "execution_count": 39,
   "id": "e3388cd8",
   "metadata": {},
   "outputs": [
    {
     "data": {
      "text/plain": [
       "(1520, 2)"
      ]
     },
     "execution_count": 39,
     "metadata": {},
     "output_type": "execute_result"
    }
   ],
   "source": [
    "y.shape"
   ]
  },
  {
   "cell_type": "code",
   "execution_count": 40,
   "id": "ae748fef",
   "metadata": {},
   "outputs": [],
   "source": [
    "y_hg_dummy = y[\"FTHG\"]\n",
    "y_ag_dummy = y[\"FTAG\"]"
   ]
  },
  {
   "cell_type": "code",
   "execution_count": 41,
   "id": "46efda43",
   "metadata": {},
   "outputs": [],
   "source": [
    "X_train_hg_dum, X_test_hg_dum, y_train_hg_dum, y_test_hg_dum = train_test_split(X_dummy, y_hg_dummy, train_size=0.80,\n",
    "                                                                               random_state=1)"
   ]
  },
  {
   "cell_type": "code",
   "execution_count": 42,
   "id": "de7dc953",
   "metadata": {},
   "outputs": [],
   "source": [
    "X_train_ag_dum, X_test_ag_dum, y_train_ag_dum, y_test_ag_dum = train_test_split(X_dummy, y_ag_dummy, train_size=0.80,\n",
    "                                                                               random_state=1)"
   ]
  },
  {
   "cell_type": "code",
   "execution_count": 43,
   "id": "5180366f",
   "metadata": {},
   "outputs": [],
   "source": [
    "log_dummy_hg = LogisticRegression()\n",
    "log_dummy_ag = LogisticRegression()"
   ]
  },
  {
   "cell_type": "code",
   "execution_count": 44,
   "id": "e20c0fa9",
   "metadata": {},
   "outputs": [
    {
     "data": {
      "text/plain": [
       "LogisticRegression()"
      ]
     },
     "execution_count": 44,
     "metadata": {},
     "output_type": "execute_result"
    }
   ],
   "source": [
    "log_dummy_hg.fit(X_train_hg_dum, y_train_hg_dum)\n",
    "log_dummy_ag.fit(X_train_ag_dum, y_train_ag_dum)"
   ]
  },
  {
   "cell_type": "code",
   "execution_count": 45,
   "id": "06f4cfd6",
   "metadata": {},
   "outputs": [],
   "source": [
    "y_pred_hg_dum = log_dummy_hg.predict(X_test_hg_dum)\n",
    "y_pred_ag_dum = log_dummy_ag.predict(X_test_ag_dum)"
   ]
  },
  {
   "cell_type": "code",
   "execution_count": 46,
   "id": "9a3e19ca",
   "metadata": {},
   "outputs": [
    {
     "name": "stdout",
     "output_type": "stream",
     "text": [
      "0.4375\n",
      "0.4934210526315789\n"
     ]
    }
   ],
   "source": [
    "print(accuracy_score(y_test_hg_dum, y_pred_hg_dum))\n",
    "print(accuracy_score(y_test_ag_dum, y_pred_ag_dum))"
   ]
  },
  {
   "cell_type": "code",
   "execution_count": 47,
   "id": "568945c6",
   "metadata": {},
   "outputs": [
    {
     "name": "stdout",
     "output_type": "stream",
     "text": [
      "              precision    recall  f1-score   support\n",
      "\n",
      "           0       0.55      0.56      0.55        73\n",
      "           1       0.41      0.51      0.45        93\n",
      "           2       0.43      0.38      0.40        76\n",
      "           3       0.32      0.30      0.31        33\n",
      "           4       0.33      0.12      0.18        16\n",
      "           5       0.40      0.33      0.36        12\n",
      "           6       0.00      0.00      0.00         1\n",
      "\n",
      "    accuracy                           0.44       304\n",
      "   macro avg       0.35      0.32      0.32       304\n",
      "weighted avg       0.43      0.44      0.43       304\n",
      "\n",
      "              precision    recall  f1-score   support\n",
      "\n",
      "           0       0.61      0.76      0.68        93\n",
      "           1       0.45      0.49      0.47        98\n",
      "           2       0.50      0.32      0.39        75\n",
      "           3       0.23      0.23      0.23        26\n",
      "           4       0.20      0.20      0.20         5\n",
      "           5       0.00      0.00      0.00         6\n",
      "           6       0.00      0.00      0.00         0\n",
      "           7       0.00      0.00      0.00         1\n",
      "           9       0.00      0.00      0.00         0\n",
      "\n",
      "    accuracy                           0.49       304\n",
      "   macro avg       0.22      0.22      0.22       304\n",
      "weighted avg       0.48      0.49      0.48       304\n",
      "\n"
     ]
    }
   ],
   "source": [
    "print(classification_report(y_test_hg_dum, y_pred_hg_dum))\n",
    "print(classification_report(y_test_ag_dum, y_pred_ag_dum))"
   ]
  }
 ],
 "metadata": {
  "kernelspec": {
   "display_name": "Python 3",
   "language": "python",
   "name": "python3"
  },
  "language_info": {
   "codemirror_mode": {
    "name": "ipython",
    "version": 3
   },
   "file_extension": ".py",
   "mimetype": "text/x-python",
   "name": "python",
   "nbconvert_exporter": "python",
   "pygments_lexer": "ipython3",
   "version": "3.8.8"
  }
 },
 "nbformat": 4,
 "nbformat_minor": 5
}
