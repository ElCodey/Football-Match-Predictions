{
 "cells": [
  {
   "cell_type": "markdown",
   "id": "e2da0e0f",
   "metadata": {},
   "source": [
    "# Football Score Predictions"
   ]
  },
  {
   "cell_type": "code",
   "execution_count": 32,
   "id": "5b85a162",
   "metadata": {},
   "outputs": [],
   "source": [
    "import pandas as pd\n",
    "#Functions from py files\n",
    "from preprocess import main\n",
    "from modelling import logistic_regression, forest_model, gradient_model\n",
    "\n",
    "from sklearn.metrics import accuracy_score, classification_report, confusion_matrix\n",
    "from sklearn import metrics\n",
    "from sklearn.model_selection import GridSearchCV\n",
    "from sklearn.ensemble import GradientBoostingClassifier\n",
    "\n",
    "import matplotlib.pyplot as plt\n",
    "import seaborn as sns\n",
    "\n",
    "import warnings\n",
    "\n",
    "warnings.filterwarnings(\"ignore\")\n"
   ]
  },
  {
   "cell_type": "markdown",
   "id": "da1eb70a",
   "metadata": {},
   "source": [
    "### Data Importing and Preprocessing\n",
    "\n",
    "All preprocessing was done in py files and all files are included in the src folder."
   ]
  },
  {
   "cell_type": "code",
   "execution_count": 4,
   "id": "5ad7d574",
   "metadata": {},
   "outputs": [],
   "source": [
    "X_train, X_test, y_train, y_test, X_train_dum, X_test_dum, y_train_dum, y_test_dum = main()"
   ]
  },
  {
   "cell_type": "code",
   "execution_count": 5,
   "id": "50935b73",
   "metadata": {},
   "outputs": [
    {
     "data": {
      "text/html": [
       "<div>\n",
       "<style scoped>\n",
       "    .dataframe tbody tr th:only-of-type {\n",
       "        vertical-align: middle;\n",
       "    }\n",
       "\n",
       "    .dataframe tbody tr th {\n",
       "        vertical-align: top;\n",
       "    }\n",
       "\n",
       "    .dataframe thead th {\n",
       "        text-align: right;\n",
       "    }\n",
       "</style>\n",
       "<table border=\"1\" class=\"dataframe\">\n",
       "  <thead>\n",
       "    <tr style=\"text-align: right;\">\n",
       "      <th></th>\n",
       "      <th>HTHG</th>\n",
       "      <th>HTAG</th>\n",
       "      <th>HS</th>\n",
       "      <th>AS</th>\n",
       "      <th>HST</th>\n",
       "      <th>AST</th>\n",
       "      <th>HC</th>\n",
       "      <th>AC</th>\n",
       "      <th>HF</th>\n",
       "      <th>AF</th>\n",
       "      <th>HR</th>\n",
       "      <th>AR</th>\n",
       "    </tr>\n",
       "  </thead>\n",
       "  <tbody>\n",
       "    <tr>\n",
       "      <th>338</th>\n",
       "      <td>2</td>\n",
       "      <td>1</td>\n",
       "      <td>16</td>\n",
       "      <td>11</td>\n",
       "      <td>7</td>\n",
       "      <td>3</td>\n",
       "      <td>8</td>\n",
       "      <td>6</td>\n",
       "      <td>12</td>\n",
       "      <td>10</td>\n",
       "      <td>0</td>\n",
       "      <td>0</td>\n",
       "    </tr>\n",
       "    <tr>\n",
       "      <th>134</th>\n",
       "      <td>0</td>\n",
       "      <td>1</td>\n",
       "      <td>1</td>\n",
       "      <td>19</td>\n",
       "      <td>1</td>\n",
       "      <td>10</td>\n",
       "      <td>1</td>\n",
       "      <td>7</td>\n",
       "      <td>14</td>\n",
       "      <td>8</td>\n",
       "      <td>1</td>\n",
       "      <td>0</td>\n",
       "    </tr>\n",
       "    <tr>\n",
       "      <th>7</th>\n",
       "      <td>0</td>\n",
       "      <td>2</td>\n",
       "      <td>9</td>\n",
       "      <td>11</td>\n",
       "      <td>2</td>\n",
       "      <td>4</td>\n",
       "      <td>12</td>\n",
       "      <td>5</td>\n",
       "      <td>13</td>\n",
       "      <td>7</td>\n",
       "      <td>0</td>\n",
       "      <td>0</td>\n",
       "    </tr>\n",
       "    <tr>\n",
       "      <th>149</th>\n",
       "      <td>0</td>\n",
       "      <td>1</td>\n",
       "      <td>12</td>\n",
       "      <td>20</td>\n",
       "      <td>5</td>\n",
       "      <td>9</td>\n",
       "      <td>9</td>\n",
       "      <td>9</td>\n",
       "      <td>10</td>\n",
       "      <td>11</td>\n",
       "      <td>0</td>\n",
       "      <td>0</td>\n",
       "    </tr>\n",
       "    <tr>\n",
       "      <th>359</th>\n",
       "      <td>0</td>\n",
       "      <td>1</td>\n",
       "      <td>16</td>\n",
       "      <td>10</td>\n",
       "      <td>6</td>\n",
       "      <td>3</td>\n",
       "      <td>11</td>\n",
       "      <td>4</td>\n",
       "      <td>8</td>\n",
       "      <td>12</td>\n",
       "      <td>0</td>\n",
       "      <td>0</td>\n",
       "    </tr>\n",
       "  </tbody>\n",
       "</table>\n",
       "</div>"
      ],
      "text/plain": [
       "     HTHG  HTAG  HS  AS  HST  AST  HC  AC  HF  AF  HR  AR\n",
       "338     2     1  16  11    7    3   8   6  12  10   0   0\n",
       "134     0     1   1  19    1   10   1   7  14   8   1   0\n",
       "7       0     2   9  11    2    4  12   5  13   7   0   0\n",
       "149     0     1  12  20    5    9   9   9  10  11   0   0\n",
       "359     0     1  16  10    6    3  11   4   8  12   0   0"
      ]
     },
     "execution_count": 5,
     "metadata": {},
     "output_type": "execute_result"
    }
   ],
   "source": [
    "X_train.head(5)"
   ]
  },
  {
   "cell_type": "code",
   "execution_count": 6,
   "id": "0886f824",
   "metadata": {},
   "outputs": [
    {
     "data": {
      "text/html": [
       "<div>\n",
       "<style scoped>\n",
       "    .dataframe tbody tr th:only-of-type {\n",
       "        vertical-align: middle;\n",
       "    }\n",
       "\n",
       "    .dataframe tbody tr th {\n",
       "        vertical-align: top;\n",
       "    }\n",
       "\n",
       "    .dataframe thead th {\n",
       "        text-align: right;\n",
       "    }\n",
       "</style>\n",
       "<table border=\"1\" class=\"dataframe\">\n",
       "  <thead>\n",
       "    <tr style=\"text-align: right;\">\n",
       "      <th></th>\n",
       "      <th>FTHG</th>\n",
       "      <th>FTAG</th>\n",
       "    </tr>\n",
       "  </thead>\n",
       "  <tbody>\n",
       "    <tr>\n",
       "      <th>338</th>\n",
       "      <td>3</td>\n",
       "      <td>1</td>\n",
       "    </tr>\n",
       "    <tr>\n",
       "      <th>134</th>\n",
       "      <td>0</td>\n",
       "      <td>3</td>\n",
       "    </tr>\n",
       "    <tr>\n",
       "      <th>7</th>\n",
       "      <td>0</td>\n",
       "      <td>2</td>\n",
       "    </tr>\n",
       "    <tr>\n",
       "      <th>149</th>\n",
       "      <td>1</td>\n",
       "      <td>2</td>\n",
       "    </tr>\n",
       "    <tr>\n",
       "      <th>359</th>\n",
       "      <td>0</td>\n",
       "      <td>1</td>\n",
       "    </tr>\n",
       "  </tbody>\n",
       "</table>\n",
       "</div>"
      ],
      "text/plain": [
       "     FTHG  FTAG\n",
       "338     3     1\n",
       "134     0     3\n",
       "7       0     2\n",
       "149     1     2\n",
       "359     0     1"
      ]
     },
     "execution_count": 6,
     "metadata": {},
     "output_type": "execute_result"
    }
   ],
   "source": [
    "y_train.head(5)"
   ]
  },
  {
   "cell_type": "markdown",
   "id": "032fbbb6",
   "metadata": {},
   "source": [
    "The y colums that will be predicted are full-time home goals and away goals. They will both be predicted in two seperate models and it will be treated as a classification problem. The X column headers information can be found in the read me file. X dummy contains team name information in addition to match stats.\n",
    "\n",
    "\n",
    "### Modelling\n",
    "\n",
    "Each algorithm will have two models, one with dummy columns for home/away teams and one without.\n",
    "- Logistic Regression\n",
    "- Random Forest\n",
    "- Gradient Boost"
   ]
  },
  {
   "cell_type": "code",
   "execution_count": 7,
   "id": "0d0c2fc1",
   "metadata": {},
   "outputs": [],
   "source": [
    "y_pred_hg_log, y_pred_ag_log = logistic_regression(X_train, X_test, y_train, y_test)\n",
    "y_pred_hg_log_dum, y_pred_ag_log_dum = logistic_regression(X_train_dum, X_test_dum, y_train_dum, y_test_dum)"
   ]
  },
  {
   "cell_type": "code",
   "execution_count": 8,
   "id": "0bf97b37",
   "metadata": {},
   "outputs": [],
   "source": [
    "y_pred_hg_forest, y_pred_ag_forest = forest_model(X_train, X_test, y_train, y_test)\n",
    "y_pred_hg_forest_dum, y_pred_ag_forest_dum = forest_model(X_train_dum, X_test_dum, y_train_dum, y_test_dum)"
   ]
  },
  {
   "cell_type": "code",
   "execution_count": 9,
   "id": "b0e4f978",
   "metadata": {},
   "outputs": [],
   "source": [
    "y_pred_hg_grad, y_pred_ag_grad = gradient_model(X_train, X_test, y_train, y_test)\n",
    "y_pred_hg_grad_dum, y_pred_ag_grad_dum = gradient_model(X_train_dum, X_test_dum, y_train_dum, y_test_dum)"
   ]
  },
  {
   "cell_type": "markdown",
   "id": "a828a9df",
   "metadata": {},
   "source": [
    "### Model Results"
   ]
  },
  {
   "cell_type": "code",
   "execution_count": 10,
   "id": "5032c743",
   "metadata": {},
   "outputs": [],
   "source": [
    "def model_result(y_true, y_pred):\n",
    "    acc_score = accuracy_score(y_true, y_pred)\n",
    "    class_report = classification_report(y_true, y_pred)\n",
    "    con_matrix = confusion_matrix(y_true, y_pred)\n",
    "    \n",
    "    return acc_score, class_report, con_matrix"
   ]
  },
  {
   "cell_type": "code",
   "execution_count": 15,
   "id": "39e808dc",
   "metadata": {},
   "outputs": [],
   "source": [
    "acc_score_hg_log, c_report_hg_log, matrix_hg_log = model_result(y_test[\"FTHG\"], y_pred_hg_log)\n",
    "acc_score_ag_log, c_report_ag_log, matrix_ag_log = model_result(y_test[\"FTAG\"], y_pred_ag_log)\n",
    "acc_score_hg_log_dum, c_report_hg_log_dum, matrix_hg_log_dum = model_result(y_test_dum[\"FTHG\"], y_pred_hg_log_dum)\n",
    "acc_score_ag_log_dum, c_report_ag_log_dum, matrix_ag_log_dum = model_result(y_test_dum[\"FTAG\"], y_pred_ag_log_dum)"
   ]
  },
  {
   "cell_type": "code",
   "execution_count": 16,
   "id": "d4dc895f",
   "metadata": {},
   "outputs": [],
   "source": [
    "acc_score_hg_forest, c_report_hg_forest, matrix_hg_forest = model_result(y_test[\"FTHG\"], y_pred_hg_forest)\n",
    "acc_score_ag_forest, c_report_ag_forest, matrix_ag_forest = model_result(y_test[\"FTAG\"], y_pred_ag_forest)\n",
    "acc_score_hg_forest_dum, c_report_hg_forest_dum, matrix_hg_forest_dum = model_result(y_test_dum[\"FTHG\"], y_pred_hg_forest_dum)\n",
    "acc_score_ag_forest_dum, c_report_ag_forest_dum, matrix_ag_forest_dum = model_result(y_test_dum[\"FTAG\"], y_pred_ag_forest_dum)"
   ]
  },
  {
   "cell_type": "code",
   "execution_count": 17,
   "id": "8e788b02",
   "metadata": {},
   "outputs": [],
   "source": [
    "acc_score_hg_grad, c_report_hg_grad, matrix_hg_grad = model_result(y_test[\"FTHG\"], y_pred_hg_grad)\n",
    "acc_score_ag_grad, c_report_ag_grad, matrix_ag_grad = model_result(y_test[\"FTAG\"], y_pred_ag_grad)\n",
    "acc_score_hg_grad_dum, c_report_hg_grad_dum, matrix_hg_grad_dum = model_result(y_test_dum[\"FTHG\"], y_pred_hg_grad_dum)\n",
    "acc_score_ag_grad_dum, c_report_ag_grad_dum, matrix_ag_grad_dum = model_result(y_test_dum[\"FTAG\"], y_pred_ag_grad_dum)"
   ]
  },
  {
   "cell_type": "markdown",
   "id": "8a52779a",
   "metadata": {},
   "source": [
    "### Logistic Regression"
   ]
  },
  {
   "cell_type": "code",
   "execution_count": 22,
   "id": "53bb29f7",
   "metadata": {},
   "outputs": [
    {
     "name": "stdout",
     "output_type": "stream",
     "text": [
      "0.24342105263157895 0.5197368421052632\n",
      "0.23026315789473684 0.4934210526315789\n"
     ]
    }
   ],
   "source": [
    "print(acc_score_hg_log, acc_score_ag_log)\n",
    "print(acc_score_hg_log_dum, acc_score_ag_log_dum)"
   ]
  },
  {
   "cell_type": "markdown",
   "id": "1fba335a",
   "metadata": {},
   "source": [
    "### Random Forest"
   ]
  },
  {
   "cell_type": "code",
   "execution_count": 20,
   "id": "5c09c946",
   "metadata": {},
   "outputs": [
    {
     "name": "stdout",
     "output_type": "stream",
     "text": [
      "0.23684210526315788 0.506578947368421\n",
      "0.24671052631578946 0.5032894736842105\n"
     ]
    }
   ],
   "source": [
    "print(acc_score_hg_forest, acc_score_ag_forest)\n",
    "print(acc_score_hg_forest_dum, acc_score_ag_forest_dum)"
   ]
  },
  {
   "cell_type": "markdown",
   "id": "bb453f45",
   "metadata": {},
   "source": [
    "### Gradient Boost"
   ]
  },
  {
   "cell_type": "code",
   "execution_count": 21,
   "id": "fd426a0c",
   "metadata": {},
   "outputs": [
    {
     "name": "stdout",
     "output_type": "stream",
     "text": [
      "0.24671052631578946 0.5263157894736842\n",
      "0.2236842105263158 0.506578947368421\n"
     ]
    }
   ],
   "source": [
    "print(acc_score_hg_grad, acc_score_ag_grad)\n",
    "print(acc_score_hg_grad_dum, acc_score_ag_grad_dum)"
   ]
  },
  {
   "cell_type": "markdown",
   "id": "92e1d5bf",
   "metadata": {},
   "source": [
    "It looks like all the models are performing better without the dummy columns. Also, the accuracy is around half for home goal predictions for all models. "
   ]
  },
  {
   "cell_type": "code",
   "execution_count": 23,
   "id": "ce057555",
   "metadata": {},
   "outputs": [
    {
     "name": "stdout",
     "output_type": "stream",
     "text": [
      "              precision    recall  f1-score   support\n",
      "\n",
      "           0       0.20      0.33      0.24        73\n",
      "           1       0.33      0.38      0.35        93\n",
      "           2       0.28      0.17      0.21        76\n",
      "           3       0.08      0.06      0.07        33\n",
      "           4       0.00      0.00      0.00        16\n",
      "           5       0.00      0.00      0.00        12\n",
      "           6       0.00      0.00      0.00         1\n",
      "\n",
      "    accuracy                           0.24       304\n",
      "   macro avg       0.13      0.13      0.13       304\n",
      "weighted avg       0.23      0.24      0.23       304\n",
      "\n"
     ]
    }
   ],
   "source": [
    "print(c_report_hg_log)"
   ]
  },
  {
   "cell_type": "code",
   "execution_count": 24,
   "id": "de47ca49",
   "metadata": {},
   "outputs": [
    {
     "name": "stdout",
     "output_type": "stream",
     "text": [
      "[[24 22 14  9  4  0  0]\n",
      " [34 35 18  6  0  0  0]\n",
      " [30 25 13  8  0  0  0]\n",
      " [16 14  1  2  0  0  0]\n",
      " [10  6  0  0  0  0  0]\n",
      " [ 8  3  0  1  0  0  0]\n",
      " [ 1  0  0  0  0  0  0]]\n"
     ]
    }
   ],
   "source": [
    "print(matrix_hg_log)"
   ]
  },
  {
   "cell_type": "code",
   "execution_count": 27,
   "id": "55a48a2c",
   "metadata": {},
   "outputs": [
    {
     "data": {
      "image/png": "[encoded data removed]",
      "text/plain": [
       "<Figure size 432x288 with 1 Axes>"
      ]
     },
     "metadata": {
      "needs_background": "light"
     },
     "output_type": "display_data"
    }
   ],
   "source": [
    "sns.heatmap(matrix_hg_log, annot=True, fmt='g', vmin=0, cbar=False)\n",
    "plt.xlabel(\"Predicted\")\n",
    "plt.ylabel(\"Actual\")\n",
    "plt.title(\"Confusion Matrix for Home Goals Logistice Regression\")\n",
    "plt.show()"
   ]
  },
  {
   "cell_type": "code",
   "execution_count": 30,
   "id": "832b249c",
   "metadata": {},
   "outputs": [
    {
     "data": {
      "text/plain": [
       "1    404\n",
       "0    300\n",
       "2    282\n",
       "3    139\n",
       "4     60\n",
       "5     24\n",
       "6      3\n",
       "7      2\n",
       "8      1\n",
       "9      1\n",
       "Name: FTHG, dtype: int64"
      ]
     },
     "execution_count": 30,
     "metadata": {},
     "output_type": "execute_result"
    }
   ],
   "source": [
    "y_train[\"FTHG\"].value_counts()"
   ]
  },
  {
   "cell_type": "markdown",
   "id": "20b83bc2",
   "metadata": {},
   "source": [
    "All the models are performing very poorly in home goal predictions and overall. Now we can explore this further and look into some learning curves to find the best parameters and improve the model.\n",
    "\n",
    "Gradient boost without the dummy variables performed the best overall, so this will be the model that will be explored and tuned."
   ]
  },
  {
   "cell_type": "code",
   "execution_count": 63,
   "id": "a3f64220",
   "metadata": {},
   "outputs": [],
   "source": [
    "clf = GridSearchCV(GradientBoostingClassifier(), \n",
    "                          { \"n_estimators\":[3,5,10]},\n",
    "                  cv=5, return_train_score=False)"
   ]
  },
  {
   "cell_type": "code",
   "execution_count": 64,
   "id": "e866e50d",
   "metadata": {},
   "outputs": [
    {
     "data": {
      "text/plain": [
       "GridSearchCV(cv=5, estimator=GradientBoostingClassifier(),\n",
       "             param_grid={'n_estimators': [3, 5, 10]})"
      ]
     },
     "execution_count": 64,
     "metadata": {},
     "output_type": "execute_result"
    }
   ],
   "source": [
    "clf.fit(X_train, y_train[\"FTHG\"])"
   ]
  },
  {
   "cell_type": "code",
   "execution_count": 65,
   "id": "000bee94",
   "metadata": {},
   "outputs": [
    {
     "data": {
      "text/plain": [
       "{'mean_fit_time': array([0.05001769, 0.07234802, 0.14299412]),\n",
       " 'std_fit_time': array([0.0073124 , 0.00328584, 0.006676  ]),\n",
       " 'mean_score_time': array([0.02617474, 0.00228701, 0.00245032]),\n",
       " 'std_score_time': array([4.60009903e-02, 1.83335051e-05, 2.53991778e-05]),\n",
       " 'param_n_estimators': masked_array(data=[3, 5, 10],\n",
       "              mask=[False, False, False],\n",
       "        fill_value='?',\n",
       "             dtype=object),\n",
       " 'params': [{'n_estimators': 3}, {'n_estimators': 5}, {'n_estimators': 10}],\n",
       " 'split0_test_score': array([0.45901639, 0.48360656, 0.5       ]),\n",
       " 'split1_test_score': array([0.46090535, 0.45679012, 0.48971193]),\n",
       " 'split2_test_score': array([0.4691358 , 0.52263374, 0.51440329]),\n",
       " 'split3_test_score': array([0.45679012, 0.46090535, 0.46502058]),\n",
       " 'split4_test_score': array([0.48148148, 0.47325103, 0.48148148]),\n",
       " 'mean_test_score': array([0.46546583, 0.47943736, 0.49012346]),\n",
       " 'std_test_score': array([0.00902918, 0.0235708 , 0.01668571]),\n",
       " 'rank_test_score': array([3, 2, 1], dtype=int32)}"
      ]
     },
     "execution_count": 65,
     "metadata": {},
     "output_type": "execute_result"
    }
   ],
   "source": [
    "clf.cv_results_"
   ]
  },
  {
   "cell_type": "code",
   "execution_count": 66,
   "id": "ff286393",
   "metadata": {},
   "outputs": [
    {
     "data": {
      "text/plain": [
       "0.4901234567901234"
      ]
     },
     "execution_count": 66,
     "metadata": {},
     "output_type": "execute_result"
    }
   ],
   "source": [
    "clf.best_score_"
   ]
  },
  {
   "cell_type": "code",
   "execution_count": 53,
   "id": "26bce65c",
   "metadata": {},
   "outputs": [
    {
     "data": {
      "text/html": [
       "<div>\n",
       "<style scoped>\n",
       "    .dataframe tbody tr th:only-of-type {\n",
       "        vertical-align: middle;\n",
       "    }\n",
       "\n",
       "    .dataframe tbody tr th {\n",
       "        vertical-align: top;\n",
       "    }\n",
       "\n",
       "    .dataframe thead th {\n",
       "        text-align: right;\n",
       "    }\n",
       "</style>\n",
       "<table border=\"1\" class=\"dataframe\">\n",
       "  <thead>\n",
       "    <tr style=\"text-align: right;\">\n",
       "      <th></th>\n",
       "      <th>mean_fit_time</th>\n",
       "      <th>std_fit_time</th>\n",
       "      <th>mean_score_time</th>\n",
       "      <th>std_score_time</th>\n",
       "      <th>param_n_estimators</th>\n",
       "      <th>params</th>\n",
       "      <th>split0_test_score</th>\n",
       "      <th>split1_test_score</th>\n",
       "      <th>split2_test_score</th>\n",
       "      <th>split3_test_score</th>\n",
       "      <th>split4_test_score</th>\n",
       "      <th>mean_test_score</th>\n",
       "      <th>std_test_score</th>\n",
       "      <th>rank_test_score</th>\n",
       "    </tr>\n",
       "  </thead>\n",
       "  <tbody>\n",
       "    <tr>\n",
       "      <th>0</th>\n",
       "      <td>0.050529</td>\n",
       "      <td>0.008993</td>\n",
       "      <td>0.002566</td>\n",
       "      <td>0.000554</td>\n",
       "      <td>3</td>\n",
       "      <td>{'n_estimators': 3}</td>\n",
       "      <td>0.459016</td>\n",
       "      <td>0.456790</td>\n",
       "      <td>0.469136</td>\n",
       "      <td>0.456790</td>\n",
       "      <td>0.481481</td>\n",
       "      <td>0.464643</td>\n",
       "      <td>0.009578</td>\n",
       "      <td>3</td>\n",
       "    </tr>\n",
       "    <tr>\n",
       "      <th>1</th>\n",
       "      <td>0.071974</td>\n",
       "      <td>0.003731</td>\n",
       "      <td>0.002357</td>\n",
       "      <td>0.000059</td>\n",
       "      <td>5</td>\n",
       "      <td>{'n_estimators': 5}</td>\n",
       "      <td>0.483607</td>\n",
       "      <td>0.452675</td>\n",
       "      <td>0.526749</td>\n",
       "      <td>0.460905</td>\n",
       "      <td>0.473251</td>\n",
       "      <td>0.479437</td>\n",
       "      <td>0.025899</td>\n",
       "      <td>2</td>\n",
       "    </tr>\n",
       "    <tr>\n",
       "      <th>2</th>\n",
       "      <td>0.148171</td>\n",
       "      <td>0.015911</td>\n",
       "      <td>0.002486</td>\n",
       "      <td>0.000047</td>\n",
       "      <td>10</td>\n",
       "      <td>{'n_estimators': 10}</td>\n",
       "      <td>0.500000</td>\n",
       "      <td>0.485597</td>\n",
       "      <td>0.518519</td>\n",
       "      <td>0.465021</td>\n",
       "      <td>0.481481</td>\n",
       "      <td>0.490123</td>\n",
       "      <td>0.018051</td>\n",
       "      <td>1</td>\n",
       "    </tr>\n",
       "  </tbody>\n",
       "</table>\n",
       "</div>"
      ],
      "text/plain": [
       "   mean_fit_time  std_fit_time  mean_score_time  std_score_time  \\\n",
       "0       0.050529      0.008993         0.002566        0.000554   \n",
       "1       0.071974      0.003731         0.002357        0.000059   \n",
       "2       0.148171      0.015911         0.002486        0.000047   \n",
       "\n",
       "  param_n_estimators                params  split0_test_score  \\\n",
       "0                  3   {'n_estimators': 3}           0.459016   \n",
       "1                  5   {'n_estimators': 5}           0.483607   \n",
       "2                 10  {'n_estimators': 10}           0.500000   \n",
       "\n",
       "   split1_test_score  split2_test_score  split3_test_score  split4_test_score  \\\n",
       "0           0.456790           0.469136           0.456790           0.481481   \n",
       "1           0.452675           0.526749           0.460905           0.473251   \n",
       "2           0.485597           0.518519           0.465021           0.481481   \n",
       "\n",
       "   mean_test_score  std_test_score  rank_test_score  \n",
       "0         0.464643        0.009578                3  \n",
       "1         0.479437        0.025899                2  \n",
       "2         0.490123        0.018051                1  "
      ]
     },
     "execution_count": 53,
     "metadata": {},
     "output_type": "execute_result"
    }
   ],
   "source": [
    "df = pd.DataFrame(clf.cv_results_)\n",
    "df"
   ]
  },
  {
   "cell_type": "code",
   "execution_count": 59,
   "id": "a09f88aa",
   "metadata": {},
   "outputs": [],
   "source": [
    "clf_ag = GridSearchCV(GradientBoostingClassifier(), \n",
    "                          { \"n_estimators\":[3,5,10]},\n",
    "                  cv=5, return_train_score=False)"
   ]
  },
  {
   "cell_type": "code",
   "execution_count": 60,
   "id": "3a786f76",
   "metadata": {},
   "outputs": [
    {
     "data": {
      "text/plain": [
       "GridSearchCV(cv=5, estimator=GradientBoostingClassifier(),\n",
       "             param_grid={'n_estimators': [3, 5, 10]})"
      ]
     },
     "execution_count": 60,
     "metadata": {},
     "output_type": "execute_result"
    }
   ],
   "source": [
    "clf_ag.fit(X_train, y_train[\"FTAG\"])"
   ]
  },
  {
   "cell_type": "code",
   "execution_count": 61,
   "id": "350e2c95",
   "metadata": {},
   "outputs": [
    {
     "data": {
      "text/html": [
       "<div>\n",
       "<style scoped>\n",
       "    .dataframe tbody tr th:only-of-type {\n",
       "        vertical-align: middle;\n",
       "    }\n",
       "\n",
       "    .dataframe tbody tr th {\n",
       "        vertical-align: top;\n",
       "    }\n",
       "\n",
       "    .dataframe thead th {\n",
       "        text-align: right;\n",
       "    }\n",
       "</style>\n",
       "<table border=\"1\" class=\"dataframe\">\n",
       "  <thead>\n",
       "    <tr style=\"text-align: right;\">\n",
       "      <th></th>\n",
       "      <th>mean_fit_time</th>\n",
       "      <th>std_fit_time</th>\n",
       "      <th>mean_score_time</th>\n",
       "      <th>std_score_time</th>\n",
       "      <th>param_n_estimators</th>\n",
       "      <th>params</th>\n",
       "      <th>split0_test_score</th>\n",
       "      <th>split1_test_score</th>\n",
       "      <th>split2_test_score</th>\n",
       "      <th>split3_test_score</th>\n",
       "      <th>split4_test_score</th>\n",
       "      <th>mean_test_score</th>\n",
       "      <th>std_test_score</th>\n",
       "      <th>rank_test_score</th>\n",
       "    </tr>\n",
       "  </thead>\n",
       "  <tbody>\n",
       "    <tr>\n",
       "      <th>0</th>\n",
       "      <td>0.045308</td>\n",
       "      <td>0.012393</td>\n",
       "      <td>0.002315</td>\n",
       "      <td>0.000231</td>\n",
       "      <td>3</td>\n",
       "      <td>{'n_estimators': 3}</td>\n",
       "      <td>0.512295</td>\n",
       "      <td>0.510288</td>\n",
       "      <td>0.522634</td>\n",
       "      <td>0.522634</td>\n",
       "      <td>0.539095</td>\n",
       "      <td>0.521389</td>\n",
       "      <td>0.010223</td>\n",
       "      <td>3</td>\n",
       "    </tr>\n",
       "    <tr>\n",
       "      <th>1</th>\n",
       "      <td>0.059102</td>\n",
       "      <td>0.002849</td>\n",
       "      <td>0.002240</td>\n",
       "      <td>0.000025</td>\n",
       "      <td>5</td>\n",
       "      <td>{'n_estimators': 5}</td>\n",
       "      <td>0.524590</td>\n",
       "      <td>0.510288</td>\n",
       "      <td>0.514403</td>\n",
       "      <td>0.526749</td>\n",
       "      <td>0.547325</td>\n",
       "      <td>0.524671</td>\n",
       "      <td>0.012883</td>\n",
       "      <td>2</td>\n",
       "    </tr>\n",
       "    <tr>\n",
       "      <th>2</th>\n",
       "      <td>0.130742</td>\n",
       "      <td>0.012747</td>\n",
       "      <td>0.003015</td>\n",
       "      <td>0.000528</td>\n",
       "      <td>10</td>\n",
       "      <td>{'n_estimators': 10}</td>\n",
       "      <td>0.528689</td>\n",
       "      <td>0.522634</td>\n",
       "      <td>0.506173</td>\n",
       "      <td>0.530864</td>\n",
       "      <td>0.559671</td>\n",
       "      <td>0.529606</td>\n",
       "      <td>0.017344</td>\n",
       "      <td>1</td>\n",
       "    </tr>\n",
       "  </tbody>\n",
       "</table>\n",
       "</div>"
      ],
      "text/plain": [
       "   mean_fit_time  std_fit_time  mean_score_time  std_score_time  \\\n",
       "0       0.045308      0.012393         0.002315        0.000231   \n",
       "1       0.059102      0.002849         0.002240        0.000025   \n",
       "2       0.130742      0.012747         0.003015        0.000528   \n",
       "\n",
       "  param_n_estimators                params  split0_test_score  \\\n",
       "0                  3   {'n_estimators': 3}           0.512295   \n",
       "1                  5   {'n_estimators': 5}           0.524590   \n",
       "2                 10  {'n_estimators': 10}           0.528689   \n",
       "\n",
       "   split1_test_score  split2_test_score  split3_test_score  split4_test_score  \\\n",
       "0           0.510288           0.522634           0.522634           0.539095   \n",
       "1           0.510288           0.514403           0.526749           0.547325   \n",
       "2           0.522634           0.506173           0.530864           0.559671   \n",
       "\n",
       "   mean_test_score  std_test_score  rank_test_score  \n",
       "0         0.521389        0.010223                3  \n",
       "1         0.524671        0.012883                2  \n",
       "2         0.529606        0.017344                1  "
      ]
     },
     "execution_count": 61,
     "metadata": {},
     "output_type": "execute_result"
    }
   ],
   "source": [
    "df_ag = pd.DataFrame(clf_ag.cv_results_)\n",
    "df_ag"
   ]
  },
  {
   "cell_type": "code",
   "execution_count": 62,
   "id": "c11e0f05",
   "metadata": {},
   "outputs": [
    {
     "data": {
      "text/plain": [
       "0.5296060176752345"
      ]
     },
     "execution_count": 62,
     "metadata": {},
     "output_type": "execute_result"
    }
   ],
   "source": [
    "clf_ag.best_score_"
   ]
  },
  {
   "cell_type": "code",
   "execution_count": null,
   "id": "477cf654",
   "metadata": {},
   "outputs": [],
   "source": []
  }
 ],
 "metadata": {
  "kernelspec": {
   "display_name": "Python 3",
   "language": "python",
   "name": "python3"
  },
  "language_info": {
   "codemirror_mode": {
    "name": "ipython",
    "version": 3
   },
   "file_extension": ".py",
   "mimetype": "text/x-python",
   "name": "python",
   "nbconvert_exporter": "python",
   "pygments_lexer": "ipython3",
   "version": "3.8.8"
  }
 },
 "nbformat": 4,
 "nbformat_minor": 5
}
